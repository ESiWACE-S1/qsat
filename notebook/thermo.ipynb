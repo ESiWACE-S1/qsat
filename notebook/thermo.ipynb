{
 "cells": [
  {
   "cell_type": "markdown",
   "metadata": {},
   "source": [
    "### Exercise 5\n",
    "\n",
    "Get the proper libraries"
   ]
  },
  {
   "cell_type": "code",
   "execution_count": 1,
   "metadata": {},
   "outputs": [],
   "source": [
    "import numpy as np\n",
    "import matplotlib.pyplot as plt\n",
    "from matplotlib.pyplot import figure, show\n",
    "from matplotlib.ticker import AutoMinorLocator\n",
    "import matplotlib.ticker\n",
    "from pandas import read_csv"
   ]
  },
  {
   "cell_type": "code",
   "execution_count": 2,
   "metadata": {
    "scrolled": false
   },
   "outputs": [],
   "source": [
    "grav   = 9.81\n",
    "cp     = 1005.\n",
    "rd     = 287.05\n",
    "es0    = 610.78\n",
    "beta   = 0.067\n",
    "tmelt = 273.16\n",
    "eps0   = 0.622\n",
    "a      = 17.27\n",
    "b      = 35.86\n",
    "p      = 1e5\n",
    "\n",
    "def qsat(p,t):\n",
    "    es = es0*np.exp(a*(t-tmelt)/(t-b))\n",
    "    qsat = eps0*es/p\n",
    "    return qsat\n",
    "\n",
    "def rlv(t):\n",
    "    rlv = 3151378 - 2386*t\n",
    "    return rlv\n",
    "\n",
    "\n",
    "def cond (t,qt,p):\n",
    "    beta   = eps0*rlv(t)**2/(rd*cp*t*t)\n",
    "    qs     = qsat(p,t)*(1+beta*qt)/(1+beta*qsat(p,t))\n",
    "    ql     = qt - qs\n",
    "    return ql\n",
    "\n"
   ]
  },
  {
   "cell_type": "code",
   "execution_count": 17,
   "metadata": {
    "scrolled": true
   },
   "outputs": [
    {
     "data": {
      "image/png": "[encoded data removed]",
      "text/plain": [
       "<Figure size 432x288 with 1 Axes>"
      ]
     },
     "metadata": {},
     "output_type": "display_data"
    },
    {
     "data": {
      "text/plain": [
       "[<matplotlib.lines.Line2D at 0x110c3e710>]"
      ]
     },
     "execution_count": 17,
     "metadata": {},
     "output_type": "execute_result"
    },
    {
     "data": {
      "image/png": "[encoded data removed]",
      "text/plain": [
       "<Figure size 432x288 with 1 Axes>"
      ]
     },
     "metadata": {},
     "output_type": "display_data"
    }
   ],
   "source": [
    "# qt = qsat(p,290)\n",
    "# qt = np.arange(qsat(p,290), 0.015, 0.00025)\n",
    "\n",
    "ql1 = np.zeros(100)\n",
    "ql2 = np.zeros(100)\n",
    "ql3 = np.zeros(100)\n",
    "\n",
    "QT= np.zeros(100)\n",
    "T = 275  # chose at your own will\n",
    "\n",
    "\n",
    "\n",
    "for i in range(100) :\n",
    "    QT[i] = qsat(p,T) + (i+1)*1e-4\n",
    "    ql1[i] = cond(T,QT[i],p)                #      first iteration\n",
    "    TSTAR = T +rlv(T)/cp * ql1[i]           #      strip off\n",
    "    QSTAR = QT[i] - ql1[i]                  #      strip off\n",
    "    ql2[i] = cond(TSTAR,QSTAR,p)            #      second iteration\n",
    "    TSTAR1 = TSTAR +rlv(T)/cp * ql2[i]      #      strip off\n",
    "    QSTAR1 = QSTAR - ql2[i]                 #      strip off\n",
    "    ql3[i] = cond(TSTAR1,QSTAR1,p)          #      third iteration \n",
    "\n",
    "#    print(ql1[i]*1000,ql2[i]*1000, ql3[i]*1000 )\n",
    "\n",
    "\n",
    "ql = ql1 + ql2 + ql3  # benchmark\n",
    "\n",
    "\n",
    "\n",
    "\n",
    "plt.plot(t,qsat(p,t)*1000,'b')\n",
    "\n",
    "plt.scatter(T,QT[i]*1000)\n",
    "\n",
    "plt.scatter(TSTAR,QSTAR*1000)\n",
    "\n",
    "plt.scatter(TSTAR1,QSTAR1*1000)\n",
    "\n",
    "plt.xlim   (270,300)                                              # set the x-range \n",
    "plt.ylim   (1,20)                                               # set the y-range \n",
    "plt.title  ('Saturation Specific Humidity')         # title plot\n",
    "plt.xlabel ('Temperature (K)')                                        # label x-axis\n",
    "plt.ylabel ('q_s (g/kg)')                                          # label y-axis\n",
    "plt.savefig('qsat.pdf')                                             # save to pdf\n",
    "plt.show()\n",
    "          \n",
    "          \n",
    "plt.xlim   (0,4)                                              # set the x-range \n",
    "plt.ylim   (0,0.1)                                               # set the y-range \n",
    "\n",
    " \n",
    "plt.plot(ql*1000,(ql1-ql)/ql,'b')       # relative error first iteration wrt 3 iterations \n",
    "\n",
    "plt.plot(ql*1000,(ql1+ql2-ql)/ql,'g')   # relative error 2nd iteration wrt 3 iterations\n",
    "\n",
    "\n",
    "\n",
    "\n",
    "\n",
    "\n",
    "         "
   ]
  },
  {
   "cell_type": "markdown",
   "metadata": {},
   "source": [
    "d. Make a plot of the saturation specific humidity of the atmospheric profile for the lowest 2500 metres in units of g/kg. Include in your plot als the specific humidity qv. Make also a plot of the relative humidity RH = qv/qs for the lowest 2500 metres. (10 points)"
   ]
  }
 ],
 "metadata": {
  "kernelspec": {
   "display_name": "Python 3",
   "language": "python",
   "name": "python3"
  },
  "language_info": {
   "codemirror_mode": {
    "name": "ipython",
    "version": 3
   },
   "file_extension": ".py",
   "mimetype": "text/x-python",
   "name": "python",
   "nbconvert_exporter": "python",
   "pygments_lexer": "ipython3",
   "version": "3.6.1"
  }
 },
 "nbformat": 4,
 "nbformat_minor": 2
}
